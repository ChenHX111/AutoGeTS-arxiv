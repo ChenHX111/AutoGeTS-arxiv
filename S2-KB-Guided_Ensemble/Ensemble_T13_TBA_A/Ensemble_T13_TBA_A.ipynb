{
 "cells": [
  {
   "cell_type": "code",
   "execution_count": 1,
   "metadata": {},
   "outputs": [],
   "source": [
    "from nbclient import NotebookClient\n",
    "import nbformat\n",
    "\n",
    "def run_notebook_via_client(path):\n",
    "    nb = nbformat.read(open(path), as_version=4)\n",
    "    client = NotebookClient(nb, kernel_name='python3')\n",
    "    client.execute()\n",
    "    nbformat.write(nb, open(path, 'w'))\n",
    "\n",
    "# Example usage\n",
    "run_notebook_via_client('D:/Step_2_Pathway/Ensemble_T13_TBA_A/NSGA-ii_Retraining_New_T13Ensemble_A(itr1,2).ipynb')\n",
    "\n",
    "run_notebook_via_client('D:/Step_2_Pathway/Ensemble_T13_TBA_A/Naive-SW_Retraining_T13Ensemble_A(itr3).ipynb')\n",
    "\n",
    "run_notebook_via_client('D:/Step_2_Pathway/Ensemble_T13_TBA_A/NSGA-ii_Retraining_New_T13Ensemble_A(itr4).ipynb')\n",
    "\n",
    "run_notebook_via_client('D:/Step_2_Pathway/Ensemble_T13_TBA_A/Naive-SW_Retraining_T13Ensemble_A(itr5).ipynb')\n"
   ]
  }
 ],
 "metadata": {
  "kernelspec": {
   "display_name": "torch201-py39-cuda118",
   "language": "python",
   "name": "python3"
  },
  "language_info": {
   "codemirror_mode": {
    "name": "ipython",
    "version": 3
   },
   "file_extension": ".py",
   "mimetype": "text/x-python",
   "name": "python",
   "nbconvert_exporter": "python",
   "pygments_lexer": "ipython3",
   "version": "3.9.0"
  }
 },
 "nbformat": 4,
 "nbformat_minor": 2
}
