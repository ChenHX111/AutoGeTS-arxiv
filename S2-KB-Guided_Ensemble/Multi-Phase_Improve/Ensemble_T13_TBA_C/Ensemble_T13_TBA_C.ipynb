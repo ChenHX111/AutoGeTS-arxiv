{
 "cells": [
  {
   "cell_type": "code",
   "execution_count": null,
   "metadata": {},
   "outputs": [],
   "source": [
    "from nbclient import NotebookClient\n",
    "import nbformat\n",
    "\n",
    "def run_notebook_via_client(path):\n",
    "    nb = nbformat.read(open(path), as_version=4)\n",
    "    client = NotebookClient(nb, kernel_name='python3')\n",
    "    client.execute()\n",
    "    nbformat.write(nb, open(path, 'w'))\n",
    "\n",
    "# Example usage\n",
    "run_notebook_via_client('D:/Step_2_Pathway/Naive-SW_Retraining_T13Ensemble_C(itr1).ipynb')\n",
    "\n",
    "run_notebook_via_client('D:/Step_2_Pathway/NSGA-ii_Retraining_New_T13Ensemble_C(itr2).ipynb')\n",
    "\n",
    "run_notebook_via_client('D:/Step_2_Pathway/Hierarchical-SW_Retraining_T13Ensemble_C(itr3).ipynb')\n",
    "\n",
    "run_notebook_via_client('D:/Step_2_Pathway/NSGA-ii_Retraining_New_T13Ensemble_C(itr4).ipynb')\n",
    "\n",
    "run_notebook_via_client('D:/Step_2_Pathway/Naive-SW_Retraining_T13Ensemble_C(itr5).ipynb')\n"
   ]
  }
 ],
 "metadata": {
  "language_info": {
   "name": "python"
  }
 },
 "nbformat": 4,
 "nbformat_minor": 2
}
