{
 "cells": [
  {
   "cell_type": "code",
   "execution_count": 1,
   "metadata": {},
   "outputs": [],
   "source": [
    "from nbclient import NotebookClient\n",
    "import nbformat\n",
    "\n",
    "def run_notebook_via_client(path):\n",
    "    nb = nbformat.read(open(path), as_version=4)\n",
    "    client = NotebookClient(nb, kernel_name='python3')\n",
    "    client.execute()\n",
    "    nbformat.write(nb, open(path, 'w'))\n",
    "\n",
    "# Improve T12 CR\n",
    "run_notebook_via_client('D:/Ensemble_Multi_Objective/Super_Objective_C12C7_CR_B/Hierarchical-SW_Retraining_T12Ensemble_B(itr1,2,3).ipynb')\n",
    "\n",
    "# Improve T7 CR\n",
    "run_notebook_via_client('D:/Ensemble_Multi_Objective/Super_Objective_C12C7_CR_B/Naive-SW_Retraining_T7Ensemble_B(itr4,5,6).ipynb')\n",
    "\n"
   ]
  }
 ],
 "metadata": {
  "kernelspec": {
   "display_name": "torch201-py39-cuda118",
   "language": "python",
   "name": "python3"
  },
  "language_info": {
   "codemirror_mode": {
    "name": "ipython",
    "version": 3
   },
   "file_extension": ".py",
   "mimetype": "text/x-python",
   "name": "python",
   "nbconvert_exporter": "python",
   "pygments_lexer": "ipython3",
   "version": "3.9.0"
  }
 },
 "nbformat": 4,
 "nbformat_minor": 2
}
